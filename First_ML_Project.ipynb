{
  "nbformat": 4,
  "nbformat_minor": 0,
  "metadata": {
    "colab": {
      "name": "First ML Project.ipynb",
      "version": "0.3.2",
      "provenance": [],
      "include_colab_link": true
    },
    "kernelspec": {
      "name": "python3",
      "display_name": "Python 3"
    }
  },
  "cells": [
    {
      "cell_type": "markdown",
      "metadata": {
        "id": "view-in-github",
        "colab_type": "text"
      },
      "source": [
        "[View in Colaboratory](https://colab.research.google.com/github/lejh1/First-Machine-Learning-Project/blob/master/First_ML_Project.ipynb)"
      ]
    },
    {
      "metadata": {
        "id": "lHty1FUktT9_",
        "colab_type": "code",
        "colab": {}
      },
      "cell_type": "code",
      "source": [
        "import tensorflow as tf \n",
        "from tensorflow import keras #High level API to build and train models \n",
        "import numpy as np \n",
        "import matplotlib.pyplot as mp\n",
        "\n"
      ],
      "execution_count": 0,
      "outputs": []
    },
    {
      "metadata": {
        "id": "BlG-MRhD0AFw",
        "colab_type": "code",
        "colab": {}
      },
      "cell_type": "code",
      "source": [
        "print(tf.__version__) #Just to check for tensorflow updates"
      ],
      "execution_count": 0,
      "outputs": []
    },
    {
      "metadata": {
        "id": "KYdsj2S-0LCb",
        "colab_type": "code",
        "colab": {}
      },
      "cell_type": "code",
      "source": [
        "# Hello World of ML using Fashion MNIST \n",
        "# (Modified National Institute of Standards and Technology database)\n",
        "# Come with Tensorflow\n",
        "f_mnist = keras.datasets.fashion_mnist\n",
        "\n",
        "(train_images, train_labels), (test_images, test_labels) = f_mnist.load_data()\n",
        "# Tuple of NumPy Arrays; 4 total arrays \n",
        "# train_images and train_labels are training set - data used to learn\n",
        "# test_images and test_labels - tested against test set \n",
        "# images - 28x28 NumPy arrays w/ pixel values \n",
        "# labels - ints 0-9"
      ],
      "execution_count": 0,
      "outputs": []
    },
    {
      "metadata": {
        "id": "gphQA7hZ3q-R",
        "colab_type": "text"
      },
      "cell_type": "markdown",
      "source": [
        "Label\tClass\n",
        "0\tT-shirt/top\n",
        "1\tTrouser\n",
        "2\tPullover\n",
        "3\tDress\n",
        "4\tCoat\n",
        "5\tSandal\n",
        "6\tShirt\n",
        "7\tSneaker\n",
        "8\tBag\n",
        "9\tAnkle boot"
      ]
    },
    {
      "metadata": {
        "id": "Xsu8Pzsy3uVR",
        "colab_type": "code",
        "colab": {}
      },
      "cell_type": "code",
      "source": [
        "class_names = ['T-shirt/top', 'Trouser', 'Pullover', 'Dress', 'Coat', \n",
        "               'Sandal', 'Shirt', 'Sneaker', 'Bag', 'Ankle boot']\n",
        "# Class names not including in dataset so create our own "
      ],
      "execution_count": 0,
      "outputs": []
    },
    {
      "metadata": {
        "id": "MkGKFNoA4RQK",
        "colab_type": "code",
        "colab": {}
      },
      "cell_type": "code",
      "source": [
        "# Exploring Data - not needed for actual training process\n",
        "\n",
        "# Used to see len and array dimensions\n",
        "print(train_images.shape)\n",
        "print(test_images.shape)\n",
        "\n",
        "\n",
        "# train_labels "
      ],
      "execution_count": 0,
      "outputs": []
    },
    {
      "metadata": {
        "id": "ontPmoBxPH1D",
        "colab_type": "code",
        "colab": {}
      },
      "cell_type": "code",
      "source": [
        "#Preprocessing the data - BOTH traingin and testing set\n",
        "# SHOW_INSPECT = True\n",
        "SHOW_INSPECT = False\n",
        "\n",
        "# Inspecting the first image in training set \n",
        "if SHOW_INSPECT:\n",
        "  mp.figure()\n",
        "  mp.imshow(train_images[0])\n",
        "  mp.colorbar()\n",
        "  mp.gca().grid(False)\n",
        "  mp.xlabel(class_names[train_labels[0]])\n",
        "\n",
        "\n",
        "  \n",
        "# Scale pixel value from 255 to 0:1 before feeding to neural network model \n",
        "train_images = train_images / 255.0\n",
        "test_images = test_images / 255.0\n",
        "\n",
        "if SHOW_INSPECT:\n",
        "  mp.figure()\n",
        "  mp.imshow(train_images[0])\n",
        "  mp.colorbar()\n",
        "  mp.gca().grid(False)\n",
        "  mp.xlabel(class_names[train_labels[0]])\n"
      ],
      "execution_count": 0,
      "outputs": []
    },
    {
      "metadata": {
        "id": "90TrsIfGRq8q",
        "colab_type": "code",
        "colab": {}
      },
      "cell_type": "code",
      "source": [
        "# Quick test to see if images are labeled correctly\n",
        "mp.figure(figsize=(10,10))\n",
        "for i in range(25):\n",
        "    mp.subplot(5,5,i+1)\n",
        "    mp.xticks([])\n",
        "    mp.yticks([])\n",
        "    mp.grid('off')\n",
        "    mp.imshow(train_images[i], cmap=mp.cm.binary)\n",
        "    mp.xlabel(class_names[train_labels[i]])"
      ],
      "execution_count": 0,
      "outputs": []
    },
    {
      "metadata": {
        "id": "uO9fGaXnR-DE",
        "colab_type": "code",
        "colab": {}
      },
      "cell_type": "code",
      "source": [
        "# Building Model \n",
        "\n",
        "# Configure the Layers\n",
        "model = keras.Sequential([\n",
        "    #First Layer\n",
        "    keras.layers.Flatten(input_shape = (28, 28)),\n",
        "    # Transforms the format of the images from a 2d array 28x28  to a 1d 28*28\n",
        "    \n",
        "    #See second quote below\n",
        "    keras.layers.Dense(128, activation = tf.nn.relu),\n",
        "    keras.layers.Dense(10, activation = tf.nn.softmax)\n",
        "])\n"
      ],
      "execution_count": 0,
      "outputs": []
    },
    {
      "metadata": {
        "id": "fF_qXBpwSsGB",
        "colab_type": "text"
      },
      "cell_type": "markdown",
      "source": [
        "\"The basic building block of a neural network is the layer. Layers extract representations from the data fed into them. And, hopefully, these representations are more meaningful for the problem at hand. Most of deep learning consists of chaining together simple layers. \"\n",
        "\n",
        "\"After the pixels are flattened, the network consists of a sequence of two tf.keras.layers.Dense layers. These are densely-connected, or fully-connected, neural layers. The first Dense layer has 128 nodes (or neurons). The second (and last) layer is a 10-node softmax layer—this returns an array of 10 probability scores that sum to 1. Each node contains a score that indicates the probability that the current image belongs to one of the 10 classes.\"\n"
      ]
    },
    {
      "metadata": {
        "id": "N1CekSiEVpms",
        "colab_type": "code",
        "colab": {}
      },
      "cell_type": "code",
      "source": [
        "# Compile the Model  - Still need to look into this\n",
        "model.compile(optimizer=tf.train.AdamOptimizer(), \n",
        "              loss='sparse_categorical_crossentropy',\n",
        "              metrics=['accuracy'])"
      ],
      "execution_count": 0,
      "outputs": []
    },
    {
      "metadata": {
        "id": "bXqrWG85Vzut",
        "colab_type": "text"
      },
      "cell_type": "markdown",
      "source": [
        "# Compile the model\n",
        "Before the model is ready for training, it needs a few more settings. These are added during the model's compile step:\n",
        "\n",
        "---\n",
        "Loss function —This measures how accurate the model is during training. We want to minimize this function to \"steer\" the model in the right direction.\n",
        "\n",
        "---\n",
        "Optimizer —This is how the model is updated based on the data it sees and its loss function.\n",
        "\n",
        "---\n",
        "Metrics —Used to monitor the training and testing steps. The following example uses accuracy, the fraction of the images that are correctly classified."
      ]
    },
    {
      "metadata": {
        "id": "TntJP-ONX6jl",
        "colab_type": "code",
        "colab": {}
      },
      "cell_type": "code",
      "source": [
        "# Train the model \n",
        "\n",
        "# Steps\n",
        "# 1: Feed training data to model ie images to labels \n",
        "# 2: Model connects images to labels\n",
        "# 3: Model makes predications and we verfiy\n",
        "\n",
        "model.fit(train_images, train_labels, epochs = 5)\n",
        "#epoch - entire processing by the learning algorithm of the entire train-set."
      ],
      "execution_count": 0,
      "outputs": []
    },
    {
      "metadata": {
        "id": "BrhfNeW9ZACj",
        "colab_type": "code",
        "colab": {}
      },
      "cell_type": "code",
      "source": [
        "# Evaluate accuracy - need to read up on optimal acc parameters\n",
        "# Compare how model does with test data \n",
        "test_loss, test_acc = model.evaluate(test_images, test_labels)\n",
        "print('Test Acc:', test_acc)\n",
        "print('Test Loss:', test_loss)\n",
        "\n",
        "# Plot the first 25 test images, their predicted label, and the true label\n",
        "# Color correct predictions in green, incorrect predictions in red\n",
        "predictions = model.predict(test_images)\n",
        "\n",
        "mp.figure(figsize=(10,10))\n",
        "for i in range(25):\n",
        "    mp.subplot(5,5,i+1)\n",
        "    mp.xticks([])\n",
        "    mp.yticks([])\n",
        "    mp.grid('off')\n",
        "    mp.imshow(test_images[i], cmap=mp.cm.binary)\n",
        "    predicted_label = np.argmax(predictions[i])\n",
        "    true_label = test_labels[i]\n",
        "    if predicted_label == true_label:\n",
        "      color = 'green'\n",
        "    else:\n",
        "      color = 'red'\n",
        "    mp.xlabel(\"{} ({})\".format(class_names[predicted_label], \n",
        "                                  class_names[true_label]),\n",
        "                                  color=color)\n",
        "      "
      ],
      "execution_count": 0,
      "outputs": []
    }
  ]
}