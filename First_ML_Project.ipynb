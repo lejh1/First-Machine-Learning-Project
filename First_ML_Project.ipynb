{
  "nbformat": 4,
  "nbformat_minor": 0,
  "metadata": {
    "colab": {
      "name": "First ML Project.ipynb",
      "version": "0.3.2",
      "provenance": [],
      "include_colab_link": true
    },
    "kernelspec": {
      "name": "python3",
      "display_name": "Python 3"
    }
  },
  "cells": [
    {
      "cell_type": "markdown",
      "metadata": {
        "id": "view-in-github",
        "colab_type": "text"
      },
      "source": [
        "[View in Colaboratory](https://colab.research.google.com/github/lejh1/First-Machine-Learning-Project/blob/master/First_ML_Project.ipynb)"
      ]
    },
    {
      "metadata": {
        "id": "lHty1FUktT9_",
        "colab_type": "code",
        "colab": {
          "base_uri": "https://localhost:8080/",
          "height": 731
        },
        "outputId": "d22dee83-e457-40ee-cd01-0a6bc6f0c045"
      },
      "cell_type": "code",
      "source": [
        ""
      ],
      "execution_count": 3,
      "outputs": [
        {
          "output_type": "stream",
          "text": [
            "usage: git [--version] [--help] [-C <path>] [-c name=value]\r\n",
            "           [--exec-path[=<path>]] [--html-path] [--man-path] [--info-path]\r\n",
            "           [-p | --paginate | --no-pager] [--no-replace-objects] [--bare]\r\n",
            "           [--git-dir=<path>] [--work-tree=<path>] [--namespace=<name>]\r\n",
            "           <command> [<args>]\r\n",
            "\r\n",
            "These are common Git commands used in various situations:\r\n",
            "\r\n",
            "start a working area (see also: git help tutorial)\r\n",
            "   clone      Clone a repository into a new directory\r\n",
            "   init       Create an empty Git repository or reinitialize an existing one\r\n",
            "\r\n",
            "work on the current change (see also: git help everyday)\r\n",
            "   add        Add file contents to the index\r\n",
            "   mv         Move or rename a file, a directory, or a symlink\r\n",
            "   reset      Reset current HEAD to the specified state\r\n",
            "   rm         Remove files from the working tree and from the index\r\n",
            "\r\n",
            "examine the history and state (see also: git help revisions)\r\n",
            "   bisect     Use binary search to find the commit that introduced a bug\r\n",
            "   grep       Print lines matching a pattern\r\n",
            "   log        Show commit logs\r\n",
            "   show       Show various types of objects\r\n",
            "   status     Show the working tree status\r\n",
            "\r\n",
            "grow, mark and tweak your common history\r\n",
            "   branch     List, create, or delete branches\r\n",
            "   checkout   Switch branches or restore working tree files\r\n",
            "   commit     Record changes to the repository\r\n",
            "   diff       Show changes between commits, commit and working tree, etc\r\n",
            "   merge      Join two or more development histories together\r\n",
            "   rebase     Reapply commits on top of another base tip\r\n",
            "   tag        Create, list, delete or verify a tag object signed with GPG\r\n",
            "\r\n",
            "collaborate (see also: git help workflows)\r\n",
            "   fetch      Download objects and refs from another repository\r\n",
            "   pull       Fetch from and integrate with another repository or a local branch\r\n",
            "   push       Update remote refs along with associated objects\r\n",
            "\r\n",
            "'git help -a' and 'git help -g' list available subcommands and some\r\n",
            "concept guides. See 'git help <command>' or 'git help <concept>'\r\n",
            "to read about a specific subcommand or concept.\r\n"
          ],
          "name": "stdout"
        }
      ]
    }
  ]
}