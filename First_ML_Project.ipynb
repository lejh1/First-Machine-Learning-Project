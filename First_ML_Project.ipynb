{
  "nbformat": 4,
  "nbformat_minor": 0,
  "metadata": {
    "colab": {
      "name": "First ML Project.ipynb",
      "version": "0.3.2",
      "provenance": [],
      "include_colab_link": true
    },
    "kernelspec": {
      "name": "python3",
      "display_name": "Python 3"
    }
  },
  "cells": [
    {
      "cell_type": "markdown",
      "metadata": {
        "id": "view-in-github",
        "colab_type": "text"
      },
      "source": [
        "[View in Colaboratory](https://colab.research.google.com/github/lejh1/First-Machine-Learning-Project/blob/master/First_ML_Project.ipynb)"
      ]
    },
    {
      "metadata": {
        "id": "lHty1FUktT9_",
        "colab_type": "code",
        "colab": {}
      },
      "cell_type": "code",
      "source": [
        "import tensorflow as tf \n",
        "from tensorflow import keras #High level API to build and train models \n",
        "import numpy as np \n",
        "import matplotlib.pyplot as mp\n",
        "\n"
      ],
      "execution_count": 0,
      "outputs": []
    },
    {
      "metadata": {
        "id": "BlG-MRhD0AFw",
        "colab_type": "code",
        "colab": {}
      },
      "cell_type": "code",
      "source": [
        "print(tf.__version__) #Just to check for tensorflow updates"
      ],
      "execution_count": 0,
      "outputs": []
    },
    {
      "metadata": {
        "id": "KYdsj2S-0LCb",
        "colab_type": "code",
        "colab": {}
      },
      "cell_type": "code",
      "source": [
        "# Hello World of ML using Fashion MNIST \n",
        "# (Modified National Institute of Standards and Technology database)\n",
        "# Come with Tensorflow\n",
        "f_mnist = keras.datasets.fashion_mnist\n",
        "\n",
        "(train_images, train_labels), (test_images, test_labels) = f_mnist.load_data()\n",
        "# Tuple of NumPy Arrays; 4 total arrays \n",
        "# train_images and train_labels are training set - data used to learn\n",
        "# test_images and test_labels - tested against test set \n",
        "# images - 28x28 NumPy arrays w/ pixel values \n",
        "# labels - ints 0-9"
      ],
      "execution_count": 0,
      "outputs": []
    },
    {
      "metadata": {
        "id": "gphQA7hZ3q-R",
        "colab_type": "text"
      },
      "cell_type": "markdown",
      "source": [
        "Label\tClass\n",
        "0\tT-shirt/top\n",
        "1\tTrouser\n",
        "2\tPullover\n",
        "3\tDress\n",
        "4\tCoat\n",
        "5\tSandal\n",
        "6\tShirt\n",
        "7\tSneaker\n",
        "8\tBag\n",
        "9\tAnkle boot"
      ]
    },
    {
      "metadata": {
        "id": "Xsu8Pzsy3uVR",
        "colab_type": "code",
        "colab": {}
      },
      "cell_type": "code",
      "source": [
        "class_names = ['T-shirt/top', 'Trouser', 'Pullover', 'Dress', 'Coat', \n",
        "               'Sandal', 'Shirt', 'Sneaker', 'Bag', 'Ankle boot']\n",
        "# Class names not including in dataset so create our own "
      ],
      "execution_count": 0,
      "outputs": []
    },
    {
      "metadata": {
        "id": "MkGKFNoA4RQK",
        "colab_type": "code",
        "colab": {
          "base_uri": "https://localhost:8080/",
          "height": 68
        },
        "outputId": "c92e2d1d-5cdd-424b-cdbc-f99632578c83"
      },
      "cell_type": "code",
      "source": [
        "# Exploring Data - not needed for actual training process\n",
        "\n",
        "# Used to see len and array dimensions\n",
        "print(train_images.shape)\n",
        "print(test_images.shape)\n",
        "\n",
        "\n",
        "# train_labels "
      ],
      "execution_count": 21,
      "outputs": [
        {
          "output_type": "stream",
          "text": [
            "(60000, 28, 28)\n",
            "(10000, 28, 28)\n"
          ],
          "name": "stdout"
        },
        {
          "output_type": "execute_result",
          "data": {
            "text/plain": [
              "array([9, 0, 0, ..., 3, 0, 5], dtype=uint8)"
            ]
          },
          "metadata": {
            "tags": []
          },
          "execution_count": 21
        }
      ]
    }
  ]
}